{
  "nbformat": 4,
  "nbformat_minor": 0,
  "metadata": {
    "colab": {
      "name": "Data Cleaning.ipynb",
      "provenance": [],
      "collapsed_sections": [],
      "authorship_tag": "ABX9TyNDmRuNjTbXqmdAC9/VePkM",
      "include_colab_link": true
    },
    "kernelspec": {
      "name": "python3",
      "display_name": "Python 3"
    },
    "language_info": {
      "name": "python"
    }
  },
  "cells": [
    {
      "cell_type": "markdown",
      "metadata": {
        "id": "view-in-github",
        "colab_type": "text"
      },
      "source": [
        "<a href=\"https://colab.research.google.com/github/z-gursky/Data-Cleaning-Candy-dataset-/blob/main/Data_Cleaning.ipynb\" target=\"_parent\"><img src=\"https://colab.research.google.com/assets/colab-badge.svg\" alt=\"Open In Colab\"/></a>"
      ]
    },
    {
      "cell_type": "code",
      "metadata": {
        "id": "i_a7_x_drBKF"
      },
      "source": [
        "import numpy as np\n",
        "import pandas as pd\n",
        "import matplotlib.pyplot as plt\n",
        "import seaborn as sns\n",
        "import scipy\n",
        "%matplotlib inline\n",
        "import io"
      ],
      "execution_count": 1,
      "outputs": []
    },
    {
      "cell_type": "code",
      "metadata": {
        "colab": {
          "resources": {
            "http://localhost:8080/nbextensions/google.colab/files.js": {
              "data": "Ly8gQ29weXJpZ2h0IDIwMTcgR29vZ2xlIExMQwovLwovLyBMaWNlbnNlZCB1bmRlciB0aGUgQXBhY2hlIExpY2Vuc2UsIFZlcnNpb24gMi4wICh0aGUgIkxpY2Vuc2UiKTsKLy8geW91IG1heSBub3QgdXNlIHRoaXMgZmlsZSBleGNlcHQgaW4gY29tcGxpYW5jZSB3aXRoIHRoZSBMaWNlbnNlLgovLyBZb3UgbWF5IG9idGFpbiBhIGNvcHkgb2YgdGhlIExpY2Vuc2UgYXQKLy8KLy8gICAgICBodHRwOi8vd3d3LmFwYWNoZS5vcmcvbGljZW5zZXMvTElDRU5TRS0yLjAKLy8KLy8gVW5sZXNzIHJlcXVpcmVkIGJ5IGFwcGxpY2FibGUgbGF3IG9yIGFncmVlZCB0byBpbiB3cml0aW5nLCBzb2Z0d2FyZQovLyBkaXN0cmlidXRlZCB1bmRlciB0aGUgTGljZW5zZSBpcyBkaXN0cmlidXRlZCBvbiBhbiAiQVMgSVMiIEJBU0lTLAovLyBXSVRIT1VUIFdBUlJBTlRJRVMgT1IgQ09ORElUSU9OUyBPRiBBTlkgS0lORCwgZWl0aGVyIGV4cHJlc3Mgb3IgaW1wbGllZC4KLy8gU2VlIHRoZSBMaWNlbnNlIGZvciB0aGUgc3BlY2lmaWMgbGFuZ3VhZ2UgZ292ZXJuaW5nIHBlcm1pc3Npb25zIGFuZAovLyBsaW1pdGF0aW9ucyB1bmRlciB0aGUgTGljZW5zZS4KCi8qKgogKiBAZmlsZW92ZXJ2aWV3IEhlbHBlcnMgZm9yIGdvb2dsZS5jb2xhYiBQeXRob24gbW9kdWxlLgogKi8KKGZ1bmN0aW9uKHNjb3BlKSB7CmZ1bmN0aW9uIHNwYW4odGV4dCwgc3R5bGVBdHRyaWJ1dGVzID0ge30pIHsKICBjb25zdCBlbGVtZW50ID0gZG9jdW1lbnQuY3JlYXRlRWxlbWVudCgnc3BhbicpOwogIGVsZW1lbnQudGV4dENvbnRlbnQgPSB0ZXh0OwogIGZvciAoY29uc3Qga2V5IG9mIE9iamVjdC5rZXlzKHN0eWxlQXR0cmlidXRlcykpIHsKICAgIGVsZW1lbnQuc3R5bGVba2V5XSA9IHN0eWxlQXR0cmlidXRlc1trZXldOwogIH0KICByZXR1cm4gZWxlbWVudDsKfQoKLy8gTWF4IG51bWJlciBvZiBieXRlcyB3aGljaCB3aWxsIGJlIHVwbG9hZGVkIGF0IGEgdGltZS4KY29uc3QgTUFYX1BBWUxPQURfU0laRSA9IDEwMCAqIDEwMjQ7CgpmdW5jdGlvbiBfdXBsb2FkRmlsZXMoaW5wdXRJZCwgb3V0cHV0SWQpIHsKICBjb25zdCBzdGVwcyA9IHVwbG9hZEZpbGVzU3RlcChpbnB1dElkLCBvdXRwdXRJZCk7CiAgY29uc3Qgb3V0cHV0RWxlbWVudCA9IGRvY3VtZW50LmdldEVsZW1lbnRCeUlkKG91dHB1dElkKTsKICAvLyBDYWNoZSBzdGVwcyBvbiB0aGUgb3V0cHV0RWxlbWVudCB0byBtYWtlIGl0IGF2YWlsYWJsZSBmb3IgdGhlIG5leHQgY2FsbAogIC8vIHRvIHVwbG9hZEZpbGVzQ29udGludWUgZnJvbSBQeXRob24uCiAgb3V0cHV0RWxlbWVudC5zdGVwcyA9IHN0ZXBzOwoKICByZXR1cm4gX3VwbG9hZEZpbGVzQ29udGludWUob3V0cHV0SWQpOwp9CgovLyBUaGlzIGlzIHJvdWdobHkgYW4gYXN5bmMgZ2VuZXJhdG9yIChub3Qgc3VwcG9ydGVkIGluIHRoZSBicm93c2VyIHlldCksCi8vIHdoZXJlIHRoZXJlIGFyZSBtdWx0aXBsZSBhc3luY2hyb25vdXMgc3RlcHMgYW5kIHRoZSBQeXRob24gc2lkZSBpcyBnb2luZwovLyB0byBwb2xsIGZvciBjb21wbGV0aW9uIG9mIGVhY2ggc3RlcC4KLy8gVGhpcyB1c2VzIGEgUHJvbWlzZSB0byBibG9jayB0aGUgcHl0aG9uIHNpZGUgb24gY29tcGxldGlvbiBvZiBlYWNoIHN0ZXAsCi8vIHRoZW4gcGFzc2VzIHRoZSByZXN1bHQgb2YgdGhlIHByZXZpb3VzIHN0ZXAgYXMgdGhlIGlucHV0IHRvIHRoZSBuZXh0IHN0ZXAuCmZ1bmN0aW9uIF91cGxvYWRGaWxlc0NvbnRpbnVlKG91dHB1dElkKSB7CiAgY29uc3Qgb3V0cHV0RWxlbWVudCA9IGRvY3VtZW50LmdldEVsZW1lbnRCeUlkKG91dHB1dElkKTsKICBjb25zdCBzdGVwcyA9IG91dHB1dEVsZW1lbnQuc3RlcHM7CgogIGNvbnN0IG5leHQgPSBzdGVwcy5uZXh0KG91dHB1dEVsZW1lbnQubGFzdFByb21pc2VWYWx1ZSk7CiAgcmV0dXJuIFByb21pc2UucmVzb2x2ZShuZXh0LnZhbHVlLnByb21pc2UpLnRoZW4oKHZhbHVlKSA9PiB7CiAgICAvLyBDYWNoZSB0aGUgbGFzdCBwcm9taXNlIHZhbHVlIHRvIG1ha2UgaXQgYXZhaWxhYmxlIHRvIHRoZSBuZXh0CiAgICAvLyBzdGVwIG9mIHRoZSBnZW5lcmF0b3IuCiAgICBvdXRwdXRFbGVtZW50Lmxhc3RQcm9taXNlVmFsdWUgPSB2YWx1ZTsKICAgIHJldHVybiBuZXh0LnZhbHVlLnJlc3BvbnNlOwogIH0pOwp9CgovKioKICogR2VuZXJhdG9yIGZ1bmN0aW9uIHdoaWNoIGlzIGNhbGxlZCBiZXR3ZWVuIGVhY2ggYXN5bmMgc3RlcCBvZiB0aGUgdXBsb2FkCiAqIHByb2Nlc3MuCiAqIEBwYXJhbSB7c3RyaW5nfSBpbnB1dElkIEVsZW1lbnQgSUQgb2YgdGhlIGlucHV0IGZpbGUgcGlja2VyIGVsZW1lbnQuCiAqIEBwYXJhbSB7c3RyaW5nfSBvdXRwdXRJZCBFbGVtZW50IElEIG9mIHRoZSBvdXRwdXQgZGlzcGxheS4KICogQHJldHVybiB7IUl0ZXJhYmxlPCFPYmplY3Q+fSBJdGVyYWJsZSBvZiBuZXh0IHN0ZXBzLgogKi8KZnVuY3Rpb24qIHVwbG9hZEZpbGVzU3RlcChpbnB1dElkLCBvdXRwdXRJZCkgewogIGNvbnN0IGlucHV0RWxlbWVudCA9IGRvY3VtZW50LmdldEVsZW1lbnRCeUlkKGlucHV0SWQpOwogIGlucHV0RWxlbWVudC5kaXNhYmxlZCA9IGZhbHNlOwoKICBjb25zdCBvdXRwdXRFbGVtZW50ID0gZG9jdW1lbnQuZ2V0RWxlbWVudEJ5SWQob3V0cHV0SWQpOwogIG91dHB1dEVsZW1lbnQuaW5uZXJIVE1MID0gJyc7CgogIGNvbnN0IHBpY2tlZFByb21pc2UgPSBuZXcgUHJvbWlzZSgocmVzb2x2ZSkgPT4gewogICAgaW5wdXRFbGVtZW50LmFkZEV2ZW50TGlzdGVuZXIoJ2NoYW5nZScsIChlKSA9PiB7CiAgICAgIHJlc29sdmUoZS50YXJnZXQuZmlsZXMpOwogICAgfSk7CiAgfSk7CgogIGNvbnN0IGNhbmNlbCA9IGRvY3VtZW50LmNyZWF0ZUVsZW1lbnQoJ2J1dHRvbicpOwogIGlucHV0RWxlbWVudC5wYXJlbnRFbGVtZW50LmFwcGVuZENoaWxkKGNhbmNlbCk7CiAgY2FuY2VsLnRleHRDb250ZW50ID0gJ0NhbmNlbCB1cGxvYWQnOwogIGNvbnN0IGNhbmNlbFByb21pc2UgPSBuZXcgUHJvbWlzZSgocmVzb2x2ZSkgPT4gewogICAgY2FuY2VsLm9uY2xpY2sgPSAoKSA9PiB7CiAgICAgIHJlc29sdmUobnVsbCk7CiAgICB9OwogIH0pOwoKICAvLyBXYWl0IGZvciB0aGUgdXNlciB0byBwaWNrIHRoZSBmaWxlcy4KICBjb25zdCBmaWxlcyA9IHlpZWxkIHsKICAgIHByb21pc2U6IFByb21pc2UucmFjZShbcGlja2VkUHJvbWlzZSwgY2FuY2VsUHJvbWlzZV0pLAogICAgcmVzcG9uc2U6IHsKICAgICAgYWN0aW9uOiAnc3RhcnRpbmcnLAogICAgfQogIH07CgogIGNhbmNlbC5yZW1vdmUoKTsKCiAgLy8gRGlzYWJsZSB0aGUgaW5wdXQgZWxlbWVudCBzaW5jZSBmdXJ0aGVyIHBpY2tzIGFyZSBub3QgYWxsb3dlZC4KICBpbnB1dEVsZW1lbnQuZGlzYWJsZWQgPSB0cnVlOwoKICBpZiAoIWZpbGVzKSB7CiAgICByZXR1cm4gewogICAgICByZXNwb25zZTogewogICAgICAgIGFjdGlvbjogJ2NvbXBsZXRlJywKICAgICAgfQogICAgfTsKICB9CgogIGZvciAoY29uc3QgZmlsZSBvZiBmaWxlcykgewogICAgY29uc3QgbGkgPSBkb2N1bWVudC5jcmVhdGVFbGVtZW50KCdsaScpOwogICAgbGkuYXBwZW5kKHNwYW4oZmlsZS5uYW1lLCB7Zm9udFdlaWdodDogJ2JvbGQnfSkpOwogICAgbGkuYXBwZW5kKHNwYW4oCiAgICAgICAgYCgke2ZpbGUudHlwZSB8fCAnbi9hJ30pIC0gJHtmaWxlLnNpemV9IGJ5dGVzLCBgICsKICAgICAgICBgbGFzdCBtb2RpZmllZDogJHsKICAgICAgICAgICAgZmlsZS5sYXN0TW9kaWZpZWREYXRlID8gZmlsZS5sYXN0TW9kaWZpZWREYXRlLnRvTG9jYWxlRGF0ZVN0cmluZygpIDoKICAgICAgICAgICAgICAgICAgICAgICAgICAgICAgICAgICAgJ24vYSd9IC0gYCkpOwogICAgY29uc3QgcGVyY2VudCA9IHNwYW4oJzAlIGRvbmUnKTsKICAgIGxpLmFwcGVuZENoaWxkKHBlcmNlbnQpOwoKICAgIG91dHB1dEVsZW1lbnQuYXBwZW5kQ2hpbGQobGkpOwoKICAgIGNvbnN0IGZpbGVEYXRhUHJvbWlzZSA9IG5ldyBQcm9taXNlKChyZXNvbHZlKSA9PiB7CiAgICAgIGNvbnN0IHJlYWRlciA9IG5ldyBGaWxlUmVhZGVyKCk7CiAgICAgIHJlYWRlci5vbmxvYWQgPSAoZSkgPT4gewogICAgICAgIHJlc29sdmUoZS50YXJnZXQucmVzdWx0KTsKICAgICAgfTsKICAgICAgcmVhZGVyLnJlYWRBc0FycmF5QnVmZmVyKGZpbGUpOwogICAgfSk7CiAgICAvLyBXYWl0IGZvciB0aGUgZGF0YSB0byBiZSByZWFkeS4KICAgIGxldCBmaWxlRGF0YSA9IHlpZWxkIHsKICAgICAgcHJvbWlzZTogZmlsZURhdGFQcm9taXNlLAogICAgICByZXNwb25zZTogewogICAgICAgIGFjdGlvbjogJ2NvbnRpbnVlJywKICAgICAgfQogICAgfTsKCiAgICAvLyBVc2UgYSBjaHVua2VkIHNlbmRpbmcgdG8gYXZvaWQgbWVzc2FnZSBzaXplIGxpbWl0cy4gU2VlIGIvNjIxMTU2NjAuCiAgICBsZXQgcG9zaXRpb24gPSAwOwogICAgd2hpbGUgKHBvc2l0aW9uIDwgZmlsZURhdGEuYnl0ZUxlbmd0aCkgewogICAgICBjb25zdCBsZW5ndGggPSBNYXRoLm1pbihmaWxlRGF0YS5ieXRlTGVuZ3RoIC0gcG9zaXRpb24sIE1BWF9QQVlMT0FEX1NJWkUpOwogICAgICBjb25zdCBjaHVuayA9IG5ldyBVaW50OEFycmF5KGZpbGVEYXRhLCBwb3NpdGlvbiwgbGVuZ3RoKTsKICAgICAgcG9zaXRpb24gKz0gbGVuZ3RoOwoKICAgICAgY29uc3QgYmFzZTY0ID0gYnRvYShTdHJpbmcuZnJvbUNoYXJDb2RlLmFwcGx5KG51bGwsIGNodW5rKSk7CiAgICAgIHlpZWxkIHsKICAgICAgICByZXNwb25zZTogewogICAgICAgICAgYWN0aW9uOiAnYXBwZW5kJywKICAgICAgICAgIGZpbGU6IGZpbGUubmFtZSwKICAgICAgICAgIGRhdGE6IGJhc2U2NCwKICAgICAgICB9LAogICAgICB9OwogICAgICBwZXJjZW50LnRleHRDb250ZW50ID0KICAgICAgICAgIGAke01hdGgucm91bmQoKHBvc2l0aW9uIC8gZmlsZURhdGEuYnl0ZUxlbmd0aCkgKiAxMDApfSUgZG9uZWA7CiAgICB9CiAgfQoKICAvLyBBbGwgZG9uZS4KICB5aWVsZCB7CiAgICByZXNwb25zZTogewogICAgICBhY3Rpb246ICdjb21wbGV0ZScsCiAgICB9CiAgfTsKfQoKc2NvcGUuZ29vZ2xlID0gc2NvcGUuZ29vZ2xlIHx8IHt9OwpzY29wZS5nb29nbGUuY29sYWIgPSBzY29wZS5nb29nbGUuY29sYWIgfHwge307CnNjb3BlLmdvb2dsZS5jb2xhYi5fZmlsZXMgPSB7CiAgX3VwbG9hZEZpbGVzLAogIF91cGxvYWRGaWxlc0NvbnRpbnVlLAp9Owp9KShzZWxmKTsK",
              "ok": true,
              "headers": [
                [
                  "content-type",
                  "application/javascript"
                ]
              ],
              "status": 200,
              "status_text": ""
            }
          },
          "base_uri": "https://localhost:8080/",
          "height": 73
        },
        "id": "6PCr8aD8TgpT",
        "outputId": "26e08207-c848-488d-c415-0ce9c75f92d4"
      },
      "source": [
        "# import my data \n",
        "from google.colab import files\n",
        "data_to_load = files.upload()"
      ],
      "execution_count": 2,
      "outputs": [
        {
          "output_type": "display_data",
          "data": {
            "text/html": [
              "\n",
              "     <input type=\"file\" id=\"files-c8fa37ba-7f45-4e01-b6c1-3c15e693b9c1\" name=\"files[]\" multiple disabled\n",
              "        style=\"border:none\" />\n",
              "     <output id=\"result-c8fa37ba-7f45-4e01-b6c1-3c15e693b9c1\">\n",
              "      Upload widget is only available when the cell has been executed in the\n",
              "      current browser session. Please rerun this cell to enable.\n",
              "      </output>\n",
              "      <script src=\"/nbextensions/google.colab/files.js\"></script> "
            ],
            "text/plain": [
              "<IPython.core.display.HTML object>"
            ]
          },
          "metadata": {
            "tags": []
          }
        },
        {
          "output_type": "stream",
          "text": [
            "Saving candy.csv to candy (12).csv\n"
          ],
          "name": "stdout"
        }
      ]
    },
    {
      "cell_type": "code",
      "metadata": {
        "colab": {
          "base_uri": "https://localhost:8080/"
        },
        "id": "OuroT23ITls_",
        "outputId": "46b60933-9e70-4c7d-8965-1b6cbc88b9f4"
      },
      "source": [
        "# Users may need to use utf-8 for encoding but ISO-8859-1 worked for me \n",
        "candy_df = pd.read_csv(io.BytesIO(data_to_load['candy.csv']), encoding = \"ISO-8859-1\")\n",
        "print(candy_df.head())"
      ],
      "execution_count": 3,
      "outputs": [
        {
          "output_type": "stream",
          "text": [
            "   Internal ID Q1: GOING OUT?  ... Q12: MEDIA [Yahoo] Click Coordinates (x, y)\n",
            "0     90258773            NaN  ...                NaN                      NaN\n",
            "1     90272821             No  ...                NaN                 (84, 25)\n",
            "2     90272829            NaN  ...                NaN                      NaN\n",
            "3     90272840             No  ...                NaN                 (75, 23)\n",
            "4     90272841             No  ...                NaN                 (70, 10)\n",
            "\n",
            "[5 rows x 120 columns]\n"
          ],
          "name": "stdout"
        }
      ]
    },
    {
      "cell_type": "markdown",
      "metadata": {
        "id": "v7DjvEagVarY"
      },
      "source": [
        "The dataset includes the following variables:\n",
        "\n",
        "* **Internal ID:** A unique indentifier for every record in the database. \n",
        "* **Going Out?:** Binary field (Yes/No).\n",
        "* **Gender:** Three different options (Male, Female, I'd rather not say).\n",
        "* **Age:** Numerical field.\n",
        "* **Country:** This is a text field but looks like people have entered their own versions --> USA instead of America.\n",
        "* **State/Province:** Text field, again with users entering own versions. \n",
        "* **Joy Or Despair:** Three different options to rate candy (Joy, Meh, Despair).\n",
        "* **Joy Other:** Text field.\n",
        "* **Despair Other:** Text field.\n",
        "* **Other Comments:** Text field.\n",
        "* **Dress:** Text field.\n",
        "* **Unnamed:**\n",
        "* **Day:** Binary field.\n",
        "* **Media:** Images/click fields. \n",
        "\n",
        "The goal of this dataset is for data cleaning. Starting off I will remove the column named \"Unnamed: 113\" as I do not know what the values are for (even though there are plenty of values in that column). Since the goal is for datacleaning, all other columns will be kept, even though in other scenarios when building models some may be dropped. "
      ]
    },
    {
      "cell_type": "code",
      "metadata": {
        "id": "nlcn7rYTTq9F"
      },
      "source": [
        "# drop the columns we will not be working with\n",
        "candy_df.drop([\"Unnamed: 113\"], axis=1, inplace=True)"
      ],
      "execution_count": 4,
      "outputs": []
    },
    {
      "cell_type": "markdown",
      "metadata": {
        "id": "QJfkJchVaSC7"
      },
      "source": [
        "Changing the column names to be all lower case to make the data easier to work with. If you would like you can also change the names of the columns as below, \n",
        "\n",
        "candy_df = candy_df.rename(columns = {'Q1: GOING OUT?' : 'going_out?', 'Q2: GENDER' : 'gender'}) and so on. "
      ]
    },
    {
      "cell_type": "code",
      "metadata": {
        "id": "SwtUG73ey-vy"
      },
      "source": [
        "candy_df.columns = candy_df.columns.str.lower()"
      ],
      "execution_count": 5,
      "outputs": []
    },
    {
      "cell_type": "markdown",
      "metadata": {
        "id": "6OmsomzjzkTf"
      },
      "source": [
        "Lets take a look at missing values with percentage. "
      ]
    },
    {
      "cell_type": "code",
      "metadata": {
        "colab": {
          "base_uri": "https://localhost:8080/"
        },
        "id": "VyaP5qryZiPW",
        "outputId": "33de9292-19cf-42e8-a179-65c98b4f5b46"
      },
      "source": [
        "def missing_data(df):\n",
        "  df = df.isnull().sum()*100/df.isnull().count()\n",
        "  print(df)\n",
        "missing_data(candy_df)"
      ],
      "execution_count": 6,
      "outputs": [
        {
          "output_type": "stream",
          "text": [
            "internal id                  0.000000\n",
            "q1: going out?               4.471545\n",
            "q2: gender                   1.666667\n",
            "q3: age                      3.414634\n",
            "q4: country                  2.601626\n",
            "                              ...    \n",
            "q12: media [daily dish]     96.544715\n",
            "q12: media [science]        44.634146\n",
            "q12: media [espn]           95.975610\n",
            "q12: media [yahoo]          97.276423\n",
            "click coordinates (x, y)    34.756098\n",
            "Length: 119, dtype: float64\n"
          ],
          "name": "stdout"
        }
      ]
    },
    {
      "cell_type": "markdown",
      "metadata": {
        "id": "QdNOeeaCaXF8"
      },
      "source": [
        "By looking at the above we can tell that Media [Yahoo], Media[ESPN], Media[Daily Dish], Despair Other, and Other Comments are columns with more than 70% of missing values. I will go ahead and drop these columns by using the same drop method above."
      ]
    },
    {
      "cell_type": "code",
      "metadata": {
        "id": "PtZVcWxXbDFf"
      },
      "source": [
        "# drop the columns we will not be working with\n",
        "candy_df.drop(['q8: despair other','q9: other comments','q12: media [yahoo]', \n",
        "               'q12: media [daily dish]','q12: media [espn]', 'click coordinates (x, y)'], axis=1, inplace=True)"
      ],
      "execution_count": 7,
      "outputs": []
    },
    {
      "cell_type": "markdown",
      "metadata": {
        "id": "xSqM_9IXbz09"
      },
      "source": [
        "Now lets look at other fields and figure out how to handle all other missing values. "
      ]
    },
    {
      "cell_type": "code",
      "metadata": {
        "colab": {
          "base_uri": "https://localhost:8080/"
        },
        "id": "M_sE2bAnbyXs",
        "outputId": "923831b5-3620-480b-9c29-7fc470899076"
      },
      "source": [
        "print(candy_df['q2: gender'].isna().value_counts())"
      ],
      "execution_count": 8,
      "outputs": [
        {
          "output_type": "stream",
          "text": [
            "False    2419\n",
            "True       41\n",
            "Name: q2: gender, dtype: int64\n"
          ],
          "name": "stdout"
        }
      ]
    },
    {
      "cell_type": "markdown",
      "metadata": {
        "id": "KBBN7kdEf3k5"
      },
      "source": [
        "The above tells us that there are 41 missing values with the Gender column. This field is not just \"Male\" or \"Female, it also includes \"I'd rather not say\" and \"Other\". Because the field is left open, the person filling out the form may have not wanted to give this information so I will fill the values with \"I'd rather not say\". "
      ]
    },
    {
      "cell_type": "code",
      "metadata": {
        "id": "Jq-YZqXJgSX7"
      },
      "source": [
        "candy_df['q2: gender'].fillna(value=\"I'd rather not say\", inplace=True)"
      ],
      "execution_count": 9,
      "outputs": []
    },
    {
      "cell_type": "markdown",
      "metadata": {
        "id": "98eV1L9Zgj8a"
      },
      "source": [
        "The country column is not a pretty one. The form is completed by writing in a response so the answers vary. To make sure I do not mess up the dataframe when figuring out the best way to move forward I will first make a copy of the dataframe. "
      ]
    },
    {
      "cell_type": "markdown",
      "metadata": {
        "id": "4wHPvYp6hXI6"
      },
      "source": [
        "When using a form and data manually being entered it can lead to errors. These errors could be misspelling, entering mis-information, capital letters where they should'nt be, and white spaces. Lets start with fixing white spaces and capitalization and see if that does any good. "
      ]
    },
    {
      "cell_type": "code",
      "metadata": {
        "colab": {
          "base_uri": "https://localhost:8080/"
        },
        "id": "CQ3XLh8NhOKg",
        "outputId": "d473cfd3-7888-4e88-ef12-79add07c4004"
      },
      "source": [
        "candy_df['q4: country'] = candy_df['q4: country'].str.lower()\n",
        "candy_df['q4: country'] = candy_df['q4: country'].str.strip()\n",
        "missing_data(candy_df)"
      ],
      "execution_count": 10,
      "outputs": [
        {
          "output_type": "stream",
          "text": [
            "internal id                      0.000000\n",
            "q1: going out?                   4.471545\n",
            "q2: gender                       0.000000\n",
            "q3: age                          3.414634\n",
            "q4: country                      2.601626\n",
            "                                  ...    \n",
            "q6 | york peppermint patties    28.658537\n",
            "q7: joy other                   62.967480\n",
            "q10: dress                      30.243902\n",
            "q11: day                        29.471545\n",
            "q12: media [science]            44.634146\n",
            "Length: 113, dtype: float64\n"
          ],
          "name": "stdout"
        }
      ]
    },
    {
      "cell_type": "markdown",
      "metadata": {
        "id": "SiLH2G5ViDaV"
      },
      "source": [
        "Stripping the data of white spaces did nothing. Let's use unique() which will list all unique values in order of appererance. This will give us a good representation of what we're dealing with. "
      ]
    },
    {
      "cell_type": "code",
      "metadata": {
        "colab": {
          "base_uri": "https://localhost:8080/"
        },
        "id": "PlITBr43hjHj",
        "outputId": "36fc936f-b150-4123-fbde-393ed73127f1"
      },
      "source": [
        "candy_df[\"q4: country\"].unique()"
      ],
      "execution_count": 11,
      "outputs": [
        {
          "output_type": "execute_result",
          "data": {
            "text/plain": [
              "array([nan, 'usa', 'us', 'canada', 'murica', 'united states', 'uk',\n",
              "       'united kingdom', 'united staes', 'united states of america',\n",
              "       'uae', 'england', 'mexico', 'u.s.a.', 'usausausa', 'america', '35',\n",
              "       'france', 'finland', 'unhinged states', 'us of a', 'unites states',\n",
              "       'the united states', 'north carolina', 'unied states',\n",
              "       'netherlands', 'germany', 'europe', 'earth', 'u s', 'u.s.', 'u.k.',\n",
              "       'costa rica', 'the united states of america', 'unite states', '46',\n",
              "       'cascadia', 'australia', 'insanity lately', 'greece',\n",
              "       'usa? hard to tell anymore..', \"'merica\", 'usas', 'pittsburgh',\n",
              "       '45', 'united state', '32', 'a', 'can', 'canae', 'new york',\n",
              "       'trumpistan', 'ireland', 'united sates', 'korea', 'california',\n",
              "       'japan', 'south africa',\n",
              "       'i pretend to be from canada, but i am really from the united states.',\n",
              "       'iceland', 'canada`', 'scotland', 'denmark', 'united stated',\n",
              "       'switzerland', 'ahem....amerca', 'ud', 'south korea', 'new jersey',\n",
              "       'indonesia', 'united ststes', 'the netherlands', 'united statss',\n",
              "       'endland', 'atlantis', 'murrika', 'usa! usa! usa!', 'usaa',\n",
              "       'alaska', 'soviet canuckistan', 'n. america', 'singapore', 'ussa',\n",
              "       'china', 'taiwan', 'hong kong', 'spain', 'sweden', 'narnia',\n",
              "       'u s a', 'united statea', '1', 'subscribe to dm4uz3 on youtube',\n",
              "       'usa usa usa!!!!', \"i don't know anymore\", 'fear and loathing'],\n",
              "      dtype=object)"
            ]
          },
          "metadata": {
            "tags": []
          },
          "execution_count": 11
        }
      ]
    },
    {
      "cell_type": "markdown",
      "metadata": {
        "id": "shWZ61OiPfao"
      },
      "source": [
        "There are a lot of different ways to deal with this data. Using regex to find patterns or replace words. We could use fuzzywuzzy a python method to match strings looks at differences in sequences. I'll be using replace which you can see below. "
      ]
    },
    {
      "cell_type": "code",
      "metadata": {
        "id": "hs2oUsQCol8G"
      },
      "source": [
        "candy_df[\"q4: country\"] = candy_df[\"q4: country\"].replace(['usa', 'us', \n",
        "        'murica', 'united states', 'united staes', 'united states of america',\n",
        "       'uae', 'u.s.a.', 'usausausa', 'america', '35', 'unhinged states', 'us of a', 'unites states',\n",
        "       'the united states', 'north carolina', 'unied states', 'earth', 'u s', 'u.s.', \n",
        "       'costa rica', 'the united states of america', 'unite states', '46', 'usa? hard to tell anymore..', \"'merica\", 'usas', 'pittsburgh',\n",
        "       '45', 'united state', '32', 'a', 'new york', 'united sates', 'california', \n",
        "       'i pretend to be from canada, but i am really from the united states.', \n",
        "       'united stated', 'ahem....amerca', 'new jersey', 'united ststes','united statss',\n",
        "       'atlantis', 'murrika', 'usa! usa! usa!', 'usaa',\n",
        "       'alaska', 'n. america', 'ussa', 'narnia',\n",
        "       'u s a', 'united statea', '1', 'subscribe to dm4uz3 on youtube',\n",
        "       'usa usa usa!!!!', \"i don't know anymore\", 'fear and loathing', 'insanity lately'], \"usa\")"
      ],
      "execution_count": 12,
      "outputs": []
    },
    {
      "cell_type": "code",
      "metadata": {
        "colab": {
          "base_uri": "https://localhost:8080/"
        },
        "id": "c9r4FxLisv3g",
        "outputId": "6fdecedb-da6e-4f28-d87c-60f50ff0e30a"
      },
      "source": [
        "candy_df[\"q4: country\"].unique()"
      ],
      "execution_count": 13,
      "outputs": [
        {
          "output_type": "execute_result",
          "data": {
            "text/plain": [
              "array([nan, 'usa', 'canada', 'uk', 'united kingdom', 'england', 'mexico',\n",
              "       'france', 'finland', 'netherlands', 'germany', 'europe', 'u.k.',\n",
              "       'cascadia', 'australia', 'greece', 'can', 'canae', 'trumpistan',\n",
              "       'ireland', 'korea', 'japan', 'south africa', 'iceland', 'canada`',\n",
              "       'scotland', 'denmark', 'switzerland', 'ud', 'south korea',\n",
              "       'indonesia', 'the netherlands', 'endland', 'soviet canuckistan',\n",
              "       'singapore', 'china', 'taiwan', 'hong kong', 'spain', 'sweden'],\n",
              "      dtype=object)"
            ]
          },
          "metadata": {
            "tags": []
          },
          "execution_count": 13
        }
      ]
    },
    {
      "cell_type": "markdown",
      "metadata": {
        "id": "G8gr1QGvP_Kp"
      },
      "source": [
        "Seemed to clean up a lot of the country column. Now that we have what we want I'll use mode to replace any missing data. You could also replace missing data with \"Do not know\" or anything that makes sense. "
      ]
    },
    {
      "cell_type": "code",
      "metadata": {
        "id": "_M4bD0Lktn8X"
      },
      "source": [
        "candy_df[\"q4: country\"].fillna(candy_df[\"q4: country\"].mode()[0], inplace=True)"
      ],
      "execution_count": 14,
      "outputs": []
    },
    {
      "cell_type": "code",
      "metadata": {
        "colab": {
          "base_uri": "https://localhost:8080/"
        },
        "id": "hWOkF_EvlYNT",
        "outputId": "7db59ffe-646f-4e9b-f569-56f963cd8451"
      },
      "source": [
        "# check to see the missing data in country column\n",
        "missing_data(candy_df)"
      ],
      "execution_count": 15,
      "outputs": [
        {
          "output_type": "stream",
          "text": [
            "internal id                      0.000000\n",
            "q1: going out?                   4.471545\n",
            "q2: gender                       0.000000\n",
            "q3: age                          3.414634\n",
            "q4: country                      0.000000\n",
            "                                  ...    \n",
            "q6 | york peppermint patties    28.658537\n",
            "q7: joy other                   62.967480\n",
            "q10: dress                      30.243902\n",
            "q11: day                        29.471545\n",
            "q12: media [science]            44.634146\n",
            "Length: 113, dtype: float64\n"
          ],
          "name": "stdout"
        }
      ]
    },
    {
      "cell_type": "markdown",
      "metadata": {
        "id": "TggUNjA6QWYd"
      },
      "source": [
        "Moving on to age column I'll be using the code below to check the different problems that occur within the column. "
      ]
    },
    {
      "cell_type": "code",
      "metadata": {
        "colab": {
          "base_uri": "https://localhost:8080/"
        },
        "id": "HhBsgo-Onyll",
        "outputId": "f9a13f93-c715-4206-ed06-6c1dd2bf045a"
      },
      "source": [
        "# Print all values that cannot be converted to float\n",
        "for column_name in [\"q3: age\"]:\n",
        "  print(\"These are the problematic values for the variable: {}\".format(column_name))\n",
        "  lst = []\n",
        "  for value in candy_df[column_name]:\n",
        "    try:\n",
        "      float(value)\n",
        "    except:\n",
        "      print(value)\n",
        "      lst.append(value)"
      ],
      "execution_count": 16,
      "outputs": [
        {
          "output_type": "stream",
          "text": [
            "These are the problematic values for the variable: q3: age\n",
            "Old enough\n",
            "Many\n",
            "?\n",
            "no\n",
            "45-55\n",
            "hahahahaha\n",
            "older than dirt\n",
            "5u\n",
            "Enough\n",
            "See question 2\n",
            "24-50\n",
            "Over 50\n",
            "sixty-nine\n",
            "46 Halloweens.\n",
            "ancient\n",
            "OLD\n",
            "old\n",
            "old\n",
            "70 1/2\n",
            "MY NAME JEFF\n",
            "59 on the day after Halloween\n",
            "old enough\n",
            "your mom\n",
            "I can remember when Java was a cool new language\n",
            "60+\n"
          ],
          "name": "stdout"
        }
      ]
    },
    {
      "cell_type": "markdown",
      "metadata": {
        "id": "xpx8F9U9QeOp"
      },
      "source": [
        "People are creative! Again I'll be replacing any entry that doesnt make sense with np.nan and then we need to downcast to a float and use the mean to fill. "
      ]
    },
    {
      "cell_type": "code",
      "metadata": {
        "id": "Pqa5aE0ZwjM4"
      },
      "source": [
        "candy_df = candy_df.replace([\"Old enough\", \"?\", \"Many\", \"no\", \"45-55\", \"hahahahaha\",\n",
        "                             \"older than dirt\", \"5u\", \"Enough\", \"See question 2\",\n",
        "                             \"24-50\", \"Over 50\", \"sixty-nine\", \"46 Halloweens.\",\n",
        "                             \"ancient\", \"OLD\", \"old\", \"70 1/2\", \"MY NAME JEFF\",\n",
        "                             \"59 on the day after Halloween\", \"old enough\", \"your mom\",\n",
        "                             \"I can remember when Java was a cool new language\", \"60+\"], np.nan)"
      ],
      "execution_count": 17,
      "outputs": []
    },
    {
      "cell_type": "code",
      "metadata": {
        "colab": {
          "base_uri": "https://localhost:8080/"
        },
        "id": "RRBTlbzc1Vvu",
        "outputId": "a69819b2-362a-4e9d-cd40-eaf8e68d66b2"
      },
      "source": [
        "# Print all values that cannot be converted to float\n",
        "for column_name in [\"q3: age\"]:\n",
        "  print(\"These are the problematic values for the variable: {}\".format(column_name))\n",
        "  lst = []\n",
        "  for value in candy_df[column_name]:\n",
        "    try:\n",
        "      float(value)\n",
        "    except:\n",
        "      print(value)\n",
        "      lst.append(value)"
      ],
      "execution_count": 18,
      "outputs": [
        {
          "output_type": "stream",
          "text": [
            "These are the problematic values for the variable: q3: age\n"
          ],
          "name": "stdout"
        }
      ]
    },
    {
      "cell_type": "code",
      "metadata": {
        "id": "pvuJZNGv3DSF"
      },
      "source": [
        "candy_df[\"q3: age\"] = pd.to_numeric(candy_df[\"q3: age\"], downcast=\"float\")\n",
        "candy_df[\"q3: age\"].fillna(candy_df[\"q3: age\"].mean(), inplace=True)"
      ],
      "execution_count": 19,
      "outputs": []
    },
    {
      "cell_type": "code",
      "metadata": {
        "colab": {
          "base_uri": "https://localhost:8080/"
        },
        "id": "H878ZpL2wAEd",
        "outputId": "f5b99c1f-97e5-405f-ef29-ae8184e1d4f2"
      },
      "source": [
        "# check age column for missing data \n",
        "missing_data(candy_df)"
      ],
      "execution_count": 20,
      "outputs": [
        {
          "output_type": "stream",
          "text": [
            "internal id                      0.000000\n",
            "q1: going out?                   4.471545\n",
            "q2: gender                       0.000000\n",
            "q3: age                          0.000000\n",
            "q4: country                      0.000000\n",
            "                                  ...    \n",
            "q6 | york peppermint patties    28.658537\n",
            "q7: joy other                   62.967480\n",
            "q10: dress                      30.243902\n",
            "q11: day                        29.471545\n",
            "q12: media [science]            44.634146\n",
            "Length: 113, dtype: float64\n"
          ],
          "name": "stdout"
        }
      ]
    },
    {
      "cell_type": "markdown",
      "metadata": {
        "id": "Y2umkmnGQzqH"
      },
      "source": [
        "Going out column has some missing data as well. This entry should only accept Yes/No but for any missing columns here I will change to \"Not sure\" "
      ]
    },
    {
      "cell_type": "code",
      "metadata": {
        "id": "ucto_78xw2tf"
      },
      "source": [
        "candy_df[\"q1: going out?\"] = candy_df[\"q1: going out?\"].fillna(\"Not sure\")"
      ],
      "execution_count": 21,
      "outputs": []
    },
    {
      "cell_type": "markdown",
      "metadata": {
        "id": "7cBGTheCRASu"
      },
      "source": [
        "If we have a closer look at the dataframe, we have a lot of missing data still. With an even closer look we can see that a lot of people filling out this survey left all answers empty when rating candy (which should accept three entries, Joy, Meh, Despair). Depending on what we're using the data for, that might be the primary focus. Due to this, below I will be dropping any row that does not have more than two candy rating questions filled out on their survey. "
      ]
    },
    {
      "cell_type": "code",
      "metadata": {
        "id": "_aA11c9V3Mrt"
      },
      "source": [
        "# make a list of all column names \n",
        "my_list = candy_df.columns.values.tolist()"
      ],
      "execution_count": 22,
      "outputs": []
    },
    {
      "cell_type": "code",
      "metadata": {
        "id": "hNo2oo504F-9"
      },
      "source": [
        "# initiate a new list and slice on the columns we need (candy ratings)\n",
        "cols = my_list[6:-3]"
      ],
      "execution_count": 23,
      "outputs": []
    },
    {
      "cell_type": "code",
      "metadata": {
        "colab": {
          "base_uri": "https://localhost:8080/"
        },
        "id": "FtsC-kpcS84p",
        "outputId": "df87b3c8-6387-4477-f89b-3e1b135b7dd0"
      },
      "source": [
        "len(cols)"
      ],
      "execution_count": 24,
      "outputs": [
        {
          "output_type": "execute_result",
          "data": {
            "text/plain": [
              "104"
            ]
          },
          "metadata": {
            "tags": []
          },
          "execution_count": 24
        }
      ]
    },
    {
      "cell_type": "markdown",
      "metadata": {
        "id": "eD4mMOdzSA-V"
      },
      "source": [
        "At the moment, after all the cleaning we've done we're left with 2460 rows and 113 columns. Lets see what happens after we drop rows that do not have more than two candy ratings filled out. "
      ]
    },
    {
      "cell_type": "code",
      "metadata": {
        "colab": {
          "base_uri": "https://localhost:8080/"
        },
        "id": "6nCYmU5e4S1N",
        "outputId": "d930991f-c6fe-4074-b64d-4400612fd3d1"
      },
      "source": [
        "candy_df.shape"
      ],
      "execution_count": 25,
      "outputs": [
        {
          "output_type": "execute_result",
          "data": {
            "text/plain": [
              "(2460, 113)"
            ]
          },
          "metadata": {
            "tags": []
          },
          "execution_count": 25
        }
      ]
    },
    {
      "cell_type": "markdown",
      "metadata": {
        "id": "c7jj6ppGSSSX"
      },
      "source": [
        "We use cols as our column list and set the thresh at 2. "
      ]
    },
    {
      "cell_type": "code",
      "metadata": {
        "id": "jQq9W5j34em9"
      },
      "source": [
        "candy_df = candy_df.dropna(subset=cols, thresh=2)"
      ],
      "execution_count": 28,
      "outputs": []
    },
    {
      "cell_type": "code",
      "metadata": {
        "colab": {
          "base_uri": "https://localhost:8080/"
        },
        "id": "tgACyMWa44Oq",
        "outputId": "d5117e8e-b785-4902-8a24-60ed2b5c8f6c"
      },
      "source": [
        "candy_df.shape"
      ],
      "execution_count": 29,
      "outputs": [
        {
          "output_type": "execute_result",
          "data": {
            "text/plain": [
              "(1803, 113)"
            ]
          },
          "metadata": {
            "tags": []
          },
          "execution_count": 29
        }
      ]
    },
    {
      "cell_type": "markdown",
      "metadata": {
        "id": "lj_rsHLiVxoK"
      },
      "source": [
        "We dropped a significant amount of rows and our missing data improved greatly. "
      ]
    },
    {
      "cell_type": "code",
      "metadata": {
        "colab": {
          "base_uri": "https://localhost:8080/"
        },
        "id": "ShUmMkoX4_Nz",
        "outputId": "a1b1fd62-c0e3-4d78-af41-6b8be6dbcc2f"
      },
      "source": [
        "missing_data(candy_df)"
      ],
      "execution_count": 31,
      "outputs": [
        {
          "output_type": "stream",
          "text": [
            "internal id                      0.000000\n",
            "q1: going out?                   0.000000\n",
            "q2: gender                       0.000000\n",
            "q3: age                          0.000000\n",
            "q4: country                      0.000000\n",
            "                                  ...    \n",
            "q6 | york peppermint patties     2.662230\n",
            "q7: joy other                   49.473100\n",
            "q10: dress                       4.991681\n",
            "q11: day                         3.882418\n",
            "q12: media [science]            24.625624\n",
            "Length: 113, dtype: float64\n"
          ],
          "name": "stdout"
        }
      ]
    },
    {
      "cell_type": "markdown",
      "metadata": {
        "id": "oPA1aPgSV3L2"
      },
      "source": [
        "This is a great start and will continue to add code and update as time allows. "
      ]
    }
  ]
}